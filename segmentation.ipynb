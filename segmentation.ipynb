{
 "cells": [
  {
   "attachments": {},
   "cell_type": "markdown",
   "metadata": {},
   "source": [
    "# Segmentation"
   ]
  },
  {
   "attachments": {},
   "cell_type": "markdown",
   "metadata": {},
   "source": [
    "## Using BPE (Byte Pair Encoding)"
   ]
  },
  {
   "cell_type": "code",
   "execution_count": null,
   "metadata": {},
   "outputs": [],
   "source": [
    "! pip install subword-nmt"
   ]
  },
  {
   "cell_type": "code",
   "execution_count": null,
   "metadata": {},
   "outputs": [],
   "source": [
    "! subword-nmt learn-bpe - s 10000 < data/europarl-v9.fi-en.tsv > data/europarl-v9.fi-en.codes\n",
    "! subword-nmt apply-bpe - c data/europarl-v9.fi-en.codes < data/europarl-v9.fi-en.tsv > data/europarl-v9.fi-en.subword\n"
   ]
  },
  {
   "cell_type": "code",
   "execution_count": null,
   "metadata": {},
   "outputs": [],
   "source": [
    "head - n 10000 data/europarl-v9.fi-en.tsv > data/europarl-v9.fi-en-10000.tsv\n"
   ]
  },
  {
   "cell_type": "code",
   "execution_count": null,
   "metadata": {},
   "outputs": [],
   "source": [
    "! subword-nmt learn-bpe - s 10000 < data/europarl-v9.fi-en-10000.tsv > data/europarl-v9.fi-en-10000.codes\n",
    "! subword-nmt apply-bpe - c data/europarl-v9.fi-en-10000.codes < data/europarl-v9.fi-en-10000.tsv > data/europarl-v9.fi-en-10000.subword\n"
   ]
  },
  {
   "attachments": {},
   "cell_type": "markdown",
   "metadata": {},
   "source": [
    "## Using Morfessor"
   ]
  },
  {
   "cell_type": "code",
   "execution_count": null,
   "metadata": {},
   "outputs": [],
   "source": [
    "! pip install morfessor"
   ]
  },
  {
   "cell_type": "code",
   "execution_count": null,
   "metadata": {},
   "outputs": [],
   "source": [
    "! morfessor - t data/europarl-v9.fi - s data/model.bin\n",
    "! morfessor - l data/model.bin - T - < data/europarl-v9.fi > data/europarl-v9.fi.segmented"
   ]
  },
  {
   "cell_type": "code",
   "execution_count": null,
   "metadata": {},
   "outputs": [],
   "source": [
    "head - n 10000 data/europarl-v9.fi-10000 > data/europarl-v9.fi-10000\n"
   ]
  },
  {
   "cell_type": "code",
   "execution_count": null,
   "metadata": {},
   "outputs": [],
   "source": [
    "! morfessor - t data/europarl-v9.fi-10000 - s data/model.bin\n",
    "! morfessor - l data/model.bin - T - < data/europarl-v9.fi-10000 > data/europarl-v9.fi-10000.segmented\n"
   ]
  }
 ],
 "metadata": {
  "kernelspec": {
   "display_name": "morfessor",
   "language": "python",
   "name": "python3"
  },
  "language_info": {
   "name": "python",
   "version": "3.11.0 | packaged by conda-forge | (main, Jan 14 2023, 12:26:40) [Clang 14.0.6 ]"
  },
  "orig_nbformat": 4,
  "vscode": {
   "interpreter": {
    "hash": "81ade080ac80d5fc5b538897cbc416717c84a98df69c0cfefb787fc6a25b5a4d"
   }
  }
 },
 "nbformat": 4,
 "nbformat_minor": 2
}
