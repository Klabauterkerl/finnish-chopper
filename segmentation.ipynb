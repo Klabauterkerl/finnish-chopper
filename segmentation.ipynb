{
 "cells": [
  {
   "attachments": {},
   "cell_type": "markdown",
   "metadata": {},
   "source": [
    "# Segmentation"
   ]
  },
  {
   "attachments": {},
   "cell_type": "markdown",
   "metadata": {},
   "source": [
    "## Using BPE (Byte Pair Encoding)"
   ]
  },
  {
   "cell_type": "code",
   "execution_count": null,
   "metadata": {},
   "outputs": [],
   "source": [
    "! pip install subword-nmt\n",
    "! pip install nltk\n"
   ]
  },
  {
   "cell_type": "markdown",
   "metadata": {
    "collapsed": false
   },
   "source": [
    "### Full dataset"
   ]
  },
  {
   "cell_type": "code",
   "execution_count": null,
   "metadata": {},
   "outputs": [],
   "source": [
    "! subword-nmt learn-bpe - s 10000 < data/europarl-v9.fi-en.tsv > data/europarl-v9.fi-en.codes\n"
   ]
  },
  {
   "cell_type": "code",
   "execution_count": null,
   "metadata": {
    "collapsed": false
   },
   "outputs": [],
   "source": [
    "! subword-nmt apply-bpe - c data/europarl-v9.fi-en.codes < data/europarl-v9.fi-en.tsv > data/europarl-v9.fi-en.subword\n"
   ]
  },
  {
   "cell_type": "markdown",
   "metadata": {
    "collapsed": false
   },
   "source": [
    "### Only first 10000 lines"
   ]
  },
  {
   "cell_type": "code",
   "execution_count": null,
   "metadata": {},
   "outputs": [],
   "source": [
    "! head - n 10000 data/tokenized-europarl-v9.fi-en > data/tokenized-europarl-v9.fi-en-10000\n"
   ]
  },
  {
   "cell_type": "code",
   "execution_count": null,
   "metadata": {
    "collapsed": false
   },
   "outputs": [],
   "source": [
    "! subword-nmt learn-bpe - s 10000 < data/tokenized-europarl-v9.fi-en-10000 > data/tokenized-europarl-v9.fi-en-10000.codes\n"
   ]
  },
  {
   "cell_type": "code",
   "execution_count": null,
   "metadata": {
    "collapsed": false
   },
   "outputs": [],
   "source": [
    "! subword-nmt apply-bpe - c data/tokenized-europarl-v9.fi-en-10000.codes < data/tokenized-europarl-v9.fi-en-10000 > data/tokenized-europarl-v9.fi-en-10000.subword\n"
   ]
  },
  {
   "attachments": {},
   "cell_type": "markdown",
   "metadata": {},
   "source": [
    "## Using Morfessor"
   ]
  },
  {
   "cell_type": "code",
   "execution_count": null,
   "metadata": {},
   "outputs": [],
   "source": [
    "! pip install morfessor\n",
    "! pip install nltk\n"
   ]
  },
  {
   "cell_type": "markdown",
   "metadata": {
    "collapsed": false
   },
   "source": [
    "### Full dataset"
   ]
  },
  {
   "cell_type": "code",
   "execution_count": null,
   "metadata": {},
   "outputs": [],
   "source": [
    "! morfessor -t data/tokenized-europarl-v9.fi -s data/model_full.bin\n"
   ]
  },
  {
   "cell_type": "code",
   "execution_count": null,
   "metadata": {
    "collapsed": false
   },
   "outputs": [],
   "source": [
    "! morfessor -l data/model.bin -T - < data/tokenized-europarl-v9.fi > data/tokenized-europarl-v9.fi.segmented\n"
   ]
  },
  {
   "cell_type": "code",
   "execution_count": null,
   "metadata": {
    "collapsed": false
   },
   "outputs": [],
   "source": [
    "! morfessor -l data/model.bin -T - --output-newlines --output-format \"{analysis}  \" --output-format-separator \"@@ \" < data/tokenized-europarl-v9.fi > data/tokenized-europarl-v9.fi.segmented\n"
   ]
  },
  {
   "cell_type": "markdown",
   "metadata": {
    "collapsed": false
   },
   "source": [
    "### Only first 10000 lines"
   ]
  },
  {
   "cell_type": "code",
   "execution_count": null,
   "metadata": {},
   "outputs": [],
   "source": [
    "! head - n 10000 data/tokenized-europarl-v9.fi > data/tokenized-europarl-v9.fi-10000\n"
   ]
  },
  {
   "cell_type": "code",
   "execution_count": null,
   "metadata": {
    "collapsed": false
   },
   "outputs": [],
   "source": [
    "! morfessor - t data/tokenized-europarl-v9.fi-10000 - s {model}\n"
   ]
  },
  {
   "cell_type": "code",
   "execution_count": null,
   "metadata": {
    "collapsed": false
   },
   "outputs": [],
   "source": [
    "! morfessor - l data/model.bin - T - < data/tokenized-europarl-v9.fi-10000 > data/tokenized-europarl-v9.fi-10000.segmented\n"
   ]
  },
  {
   "cell_type": "code",
   "execution_count": null,
   "metadata": {
    "collapsed": false
   },
   "outputs": [],
   "source": [
    "! morfessor - l data/model.bin - T - --output-newlines - -output-format \"{analysis}  \" - -output-format-separator \"@@ \" < data/tokenized-europarl-v9.fi-10000 > data/tokenized-europarl-v9.fi-10000.segmented\n"
   ]
  }
 ],
 "metadata": {
  "kernelspec": {
   "display_name": "morfessor",
   "language": "python",
   "name": "python3"
  },
  "language_info": {
   "codemirror_mode": {
    "name": "ipython",
    "version": 3
   },
   "file_extension": ".py",
   "mimetype": "text/x-python",
   "name": "python",
   "nbconvert_exporter": "python",
   "pygments_lexer": "ipython3",
   "version": "3.11.0"
  },
  "orig_nbformat": 4,
  "vscode": {
   "interpreter": {
    "hash": "81ade080ac80d5fc5b538897cbc416717c84a98df69c0cfefb787fc6a25b5a4d"
   }
  }
 },
 "nbformat": 4,
 "nbformat_minor": 2
}
